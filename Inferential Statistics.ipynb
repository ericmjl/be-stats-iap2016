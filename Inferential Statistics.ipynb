{
 "cells": [
  {
   "cell_type": "code",
   "execution_count": 23,
   "metadata": {
    "collapsed": false
   },
   "outputs": [],
   "source": [
    "%matplotlib inline\n",
    "\n",
    "from scipy.stats import binom, norm, poisson, hypergeom, \n",
    "                        rv_discrete\n",
    "\n",
    "import matplotlib.pyplot as plt\n",
    "import seaborn as sns\n",
    "import pandas as pd\n",
    "import numpy as np"
   ]
  },
  {
   "cell_type": "markdown",
   "metadata": {},
   "source": [
    "# Administrative Stuff\n",
    "\n",
    "Connect to the Jupyter server that I have created on Amazon EC2. URL is:\n",
    "\n",
    "    https://54.172.168.134:8888/\n",
    "    \n",
    "Password is: \"LifeIsGood!\"\n",
    "\n",
    "When in there, create a new notebook, and then click on the \"Untitled\" at the top, and rename it to your own name."
   ]
  },
  {
   "cell_type": "markdown",
   "metadata": {},
   "source": [
    "# Learning Outcomes:\n",
    "\n",
    "By the end of this section, you will be able to:\n",
    "\n",
    "1. Use Python functions to visualize the Normal, Binomial, Hypergeometric, and Poisson distributions.\n",
    "2. Describe the meaning of a p-value.\n",
    "3. Describe the difference between the population and sample distribution.\n",
    "4. Describe the Central Limit Theorem and its use in inferential statistics."
   ]
  },
  {
   "cell_type": "markdown",
   "metadata": {},
   "source": [
    "# Inferential Statistics\n",
    "\n",
    "In the first part, we learned about descriptive statistics, and common plots used to visualize the data.\n",
    "\n",
    "In this section, we will learn about inferential statistics, which when boiled down to its core, is all about figuring out how probable our data (or more extreme) could have been under random chance.\n",
    "\n",
    "## The Logic of Inference\n",
    "\n",
    "We observe some data. We want to know what probability we could have observed that data or something more extreme, purely by random chance.\n",
    "\n",
    "To do so, we need a few ingredients:\n",
    "\n",
    "1. A **test statistic** - a summary statistic of the data. Usually the mean or variance.\n",
    "1. A **null random model** - essentially one of the distributions taught by Sean, and other non-parametric distributions.\n",
    "\n",
    "Inspired by @jakevdp (Jake Vanderplas, UW eScience Institute), we will not be using analytical methods (i.e. algebra) in this segment, but instead we will use computational methods."
   ]
  },
  {
   "cell_type": "markdown",
   "metadata": {},
   "source": [
    "## Example 1: The probability of getting that result or something more extreme\n",
    "\n",
    "Here is a datapoint: We have flipped a coin 20 times, and it came out to be heads 16 times. **Is this coin biased or not?**\n",
    "\n",
    "1. Firstly, let's define the test statistic as \"the number of heads flipped\".\n",
    "1. Secondly, let's define the null random model as \"20 coin flips where the probability of heads is 0.5\"."
   ]
  },
  {
   "cell_type": "code",
   "execution_count": 87,
   "metadata": {
    "collapsed": false
   },
   "outputs": [
    {
     "data": {
      "text/plain": [
       "<matplotlib.lines.Line2D at 0x11d0a9e10>"
      ]
     },
     "execution_count": 87,
     "metadata": {},
     "output_type": "execute_result"
    },
    {
     "data": {
      "image/png": "[encoded data removed]",
      "text/plain": [
       "<matplotlib.figure.Figure at 0x11d0a9cf8>"
      ]
     },
     "metadata": {},
     "output_type": "display_data"
    }
   ],
   "source": [
    "null_flips = binom.rvs(n=20, p=0.5, size=10000)\n",
    "plt.hist(null_flips)\n",
    "plt.axvline(16)"
   ]
  },
  {
   "cell_type": "code",
   "execution_count": 2,
   "metadata": {
    "collapsed": false
   },
   "outputs": [
    {
     "data": {
      "text/plain": [
       "<matplotlib.lines.Line2D at 0x1152337f0>"
      ]
     },
     "execution_count": 2,
     "metadata": {},
     "output_type": "execute_result"
    },
    {
     "data": {
      "image/png": "[encoded data removed]",
      "text/plain": [
       "<matplotlib.figure.Figure at 0x1152337b8>"
      ]
     },
     "metadata": {},
     "output_type": "display_data"
    }
   ],
   "source": [
    "alpha = 5 / 100\n",
    "\n",
    "null_flips = binom.rvs(n=20, p=0.5, size=10000)\n",
    "plt.hist(null_flips)\n",
    "plt.axvline(16)"
   ]
  },
  {
   "cell_type": "code",
   "execution_count": 90,
   "metadata": {
    "collapsed": false
   },
   "outputs": [
    {
     "data": {
      "text/plain": [
       "0.0057000000000000002"
      ]
     },
     "execution_count": 90,
     "metadata": {},
     "output_type": "execute_result"
    }
   ],
   "source": [
    "sum(null_flips >=16) / 10000"
   ]
  },
  {
   "cell_type": "markdown",
   "metadata": {},
   "source": [
    "Our test here tells us whether it is possible for us to see `X` number of heads or more under randomness. Let us count up the number of times we see 16 or more heads under the null model."
   ]
  },
  {
   "cell_type": "code",
   "execution_count": 3,
   "metadata": {
    "collapsed": false
   },
   "outputs": [
    {
     "data": {
      "text/plain": [
       "79"
      ]
     },
     "execution_count": 3,
     "metadata": {},
     "output_type": "execute_result"
    }
   ],
   "source": [
    "num_heads = sum(null_flips >= 16)\n",
    "num_heads"
   ]
  },
  {
   "cell_type": "markdown",
   "metadata": {},
   "source": [
    "Finally, let's calculate the probability of seeing this number by random chance."
   ]
  },
  {
   "cell_type": "code",
   "execution_count": 4,
   "metadata": {
    "collapsed": false
   },
   "outputs": [
    {
     "data": {
      "text/plain": [
       "0.0079000000000000008"
      ]
     },
     "execution_count": 4,
     "metadata": {},
     "output_type": "execute_result"
    }
   ],
   "source": [
    "p_value = num_heads / len(null_flips) \n",
    "p_value"
   ]
  },
  {
   "cell_type": "markdown",
   "metadata": {},
   "source": [
    "The probability of seeing this under a null model of `p=0.5` is very low (approximately 1 in 200). Therefore, it is likely the case that the coin is biased."
   ]
  },
  {
   "cell_type": "markdown",
   "metadata": {},
   "source": [
    "## Exercise 1\n",
    "\n",
    "Epidemiologists have been longitudinally measuring the rate of cancer incidence in a population of humans. Over the first 10 years, cancer rates were 10 per 10000 by the age of 30. In the 11th and 12th years, cancer rates went up to 14 per 10000. Calculate the p-value of the 11th year and the 12th year separately.\n",
    "\n",
    "Hint: Model this as a Poisson process.\n",
    "\n",
    "What are you assuming about the null model?"
   ]
  },
  {
   "cell_type": "code",
   "execution_count": 94,
   "metadata": {
    "collapsed": false,
    "scrolled": true
   },
   "outputs": [
    {
     "data": {
      "text/plain": [
       "0.13552"
      ]
     },
     "execution_count": 94,
     "metadata": {},
     "output_type": "execute_result"
    }
   ],
   "source": [
    "null_poisson = poisson.rvs(10, size=100000)\n",
    "sum(null_poisson >= 14) / 100000"
   ]
  },
  {
   "cell_type": "markdown",
   "metadata": {},
   "source": [
    "Visualize this using the plot below."
   ]
  },
  {
   "cell_type": "code",
   "execution_count": 6,
   "metadata": {
    "collapsed": false
   },
   "outputs": [
    {
     "data": {
      "text/plain": [
       "<matplotlib.lines.Line2D at 0x1041896a0>"
      ]
     },
     "execution_count": 6,
     "metadata": {},
     "output_type": "execute_result"
    },
    {
     "data": {
      "image/png": "[encoded data removed]",
      "text/plain": [
       "<matplotlib.figure.Figure at 0x1041895f8>"
      ]
     },
     "metadata": {},
     "output_type": "display_data"
    }
   ],
   "source": [
    "plt.hist(null_poisson)\n",
    "plt.axvline(14)"
   ]
  },
  {
   "cell_type": "markdown",
   "metadata": {},
   "source": [
    "## Exercise 2\n",
    "\n",
    "In your average bag of M&Ms, there are on average 30 brown, 20 yellow, 20 red, 10 orange, 10 green, and 10 blue out of every 100 M&M candies. I draw out 50 candies, and find that I have 22 brown. Is this bag an \"average\" bag?"
   ]
  },
  {
   "cell_type": "code",
   "execution_count": 32,
   "metadata": {
    "collapsed": false
   },
   "outputs": [
    {
     "data": {
      "text/plain": [
       "0.0012999999999999999"
      ]
     },
     "execution_count": 32,
     "metadata": {},
     "output_type": "execute_result"
    }
   ],
   "source": [
    "null_hypergeom = hypergeom.rvs(M=100, n=30, N=50, size=10000)\n",
    "sum(null_hypergeom >= 22) / 10000"
   ]
  },
  {
   "cell_type": "markdown",
   "metadata": {},
   "source": [
    "Once again, plot this below."
   ]
  },
  {
   "cell_type": "code",
   "execution_count": 33,
   "metadata": {
    "collapsed": false
   },
   "outputs": [
    {
     "data": {
      "text/plain": [
       "<matplotlib.lines.Line2D at 0x118aa7a90>"
      ]
     },
     "execution_count": 33,
     "metadata": {},
     "output_type": "execute_result"
    },
    {
     "data": {
      "image/png": "[encoded data removed]",
      "text/plain": [
       "<matplotlib.figure.Figure at 0x118aa7cc0>"
      ]
     },
     "metadata": {},
     "output_type": "display_data"
    }
   ],
   "source": [
    "plt.hist(null_hypergeom)\n",
    "plt.axvline(22)"
   ]
  },
  {
   "cell_type": "markdown",
   "metadata": {},
   "source": [
    "## Exercise 3\n",
    "\n",
    "Systolic blood pressure in healthy patients is Normally distributed with mean 122 mmHg and std. deviation 9 mmHg. In hypertensive patients, it is Normally with mean 140 and std. deviation 6 mmHg. (I pulled out these numbers from a hat - http://www.cdc.gov/nchs/data/nhsr/nhsr035.pdf)\n",
    "\n",
    "A patient comes in and measures 130 mmHg.\n",
    "\n",
    "What is the p-value of this patient's blood pressure, under:\n",
    "\n",
    "* the hypothesis that this patient is healthy?\n",
    "* the hypothesis that this patient is hypertensive?\n",
    "\n",
    "Plot the distributions and the patient's systolic blood pressure."
   ]
  },
  {
   "cell_type": "code",
   "execution_count": 9,
   "metadata": {
    "collapsed": false
   },
   "outputs": [
    {
     "data": {
      "text/plain": [
       "<matplotlib.lines.Line2D at 0x1172ffeb8>"
      ]
     },
     "execution_count": 9,
     "metadata": {},
     "output_type": "execute_result"
    },
    {
     "data": {
      "image/png": "[encoded data removed]",
      "text/plain": [
       "<matplotlib.figure.Figure at 0x1172ffc18>"
      ]
     },
     "metadata": {},
     "output_type": "display_data"
    }
   ],
   "source": [
    "null_healthy = norm.rvs(122, 9, size=100000)\n",
    "null_hyper = norm.rvs(140, 6, size=100000)\n",
    "\n",
    "sns.kdeplot(null_healthy)\n",
    "sns.kdeplot(null_hyper)\n",
    "plt.axvline(130)"
   ]
  },
  {
   "cell_type": "code",
   "execution_count": 10,
   "metadata": {
    "collapsed": false
   },
   "outputs": [
    {
     "data": {
      "text/plain": [
       "0.18745999999999999"
      ]
     },
     "execution_count": 10,
     "metadata": {},
     "output_type": "execute_result"
    }
   ],
   "source": [
    "# P-value calculation under healthy hypothesis\n",
    "np.sum(null_healthy >= 130) / len(null_healthy)"
   ]
  },
  {
   "cell_type": "code",
   "execution_count": 11,
   "metadata": {
    "collapsed": false
   },
   "outputs": [
    {
     "data": {
      "text/plain": [
       "0.04734"
      ]
     },
     "execution_count": 11,
     "metadata": {},
     "output_type": "execute_result"
    }
   ],
   "source": [
    "# P-value calculation under hypertension hypothesis\n",
    "np.sum(null_hyper <= 130) / len(null_hyper)"
   ]
  },
  {
   "cell_type": "markdown",
   "metadata": {
    "collapsed": true
   },
   "source": [
    "## Example 2: Difference between two experimental groups.\n",
    "\n",
    "You've measured enzyme activity under two inhibitors and a control without an inhibitor. Is the difference a true difference, or could we have observed this purely by random chance? Take a look at the data below."
   ]
  },
  {
   "cell_type": "code",
   "execution_count": 12,
   "metadata": {
    "collapsed": false
   },
   "outputs": [
    {
     "data": {
      "text/html": [
       "<div>\n",
       "<table border=\"1\" class=\"dataframe\">\n",
       "  <thead>\n",
       "    <tr style=\"text-align: right;\">\n",
       "      <th></th>\n",
       "      <th>Inhibitor 1</th>\n",
       "      <th>Inhibitor 2</th>\n",
       "      <th>Control</th>\n",
       "    </tr>\n",
       "  </thead>\n",
       "  <tbody>\n",
       "    <tr>\n",
       "      <th>0</th>\n",
       "      <td>47.614170</td>\n",
       "      <td>83.833372</td>\n",
       "      <td>53.489627</td>\n",
       "    </tr>\n",
       "    <tr>\n",
       "      <th>1</th>\n",
       "      <td>55.935495</td>\n",
       "      <td>59.976393</td>\n",
       "      <td>56.806193</td>\n",
       "    </tr>\n",
       "    <tr>\n",
       "      <th>2</th>\n",
       "      <td>52.248938</td>\n",
       "      <td>67.662847</td>\n",
       "      <td>36.920265</td>\n",
       "    </tr>\n",
       "    <tr>\n",
       "      <th>3</th>\n",
       "      <td>84.150209</td>\n",
       "      <td>65.104755</td>\n",
       "      <td>88.682270</td>\n",
       "    </tr>\n",
       "    <tr>\n",
       "      <th>4</th>\n",
       "      <td>78.836532</td>\n",
       "      <td>54.887494</td>\n",
       "      <td>86.140043</td>\n",
       "    </tr>\n",
       "    <tr>\n",
       "      <th>5</th>\n",
       "      <td>64.303041</td>\n",
       "      <td>70.019334</td>\n",
       "      <td>111.121237</td>\n",
       "    </tr>\n",
       "    <tr>\n",
       "      <th>6</th>\n",
       "      <td>69.953035</td>\n",
       "      <td>74.417726</td>\n",
       "      <td>90.671457</td>\n",
       "    </tr>\n",
       "    <tr>\n",
       "      <th>7</th>\n",
       "      <td>76.609832</td>\n",
       "      <td>53.116692</td>\n",
       "      <td>109.814540</td>\n",
       "    </tr>\n",
       "    <tr>\n",
       "      <th>8</th>\n",
       "      <td>38.909090</td>\n",
       "      <td>77.475146</td>\n",
       "      <td>93.140039</td>\n",
       "    </tr>\n",
       "    <tr>\n",
       "      <th>9</th>\n",
       "      <td>67.071579</td>\n",
       "      <td>74.679800</td>\n",
       "      <td>95.721973</td>\n",
       "    </tr>\n",
       "  </tbody>\n",
       "</table>\n",
       "</div>"
      ],
      "text/plain": [
       "   Inhibitor 1  Inhibitor 2     Control\n",
       "0    47.614170    83.833372   53.489627\n",
       "1    55.935495    59.976393   56.806193\n",
       "2    52.248938    67.662847   36.920265\n",
       "3    84.150209    65.104755   88.682270\n",
       "4    78.836532    54.887494   86.140043\n",
       "5    64.303041    70.019334  111.121237\n",
       "6    69.953035    74.417726   90.671457\n",
       "7    76.609832    53.116692  109.814540\n",
       "8    38.909090    77.475146   93.140039\n",
       "9    67.071579    74.679800   95.721973"
      ]
     },
     "execution_count": 12,
     "metadata": {},
     "output_type": "execute_result"
    },
    {
     "data": {
      "image/png": "[encoded data removed]",
      "text/plain": [
       "<matplotlib.figure.Figure at 0x117b37198>"
      ]
     },
     "metadata": {},
     "output_type": "display_data"
    }
   ],
   "source": [
    "# inhibitor1 = norm.rvs(70, 22, size=20)\n",
    "# inhibitor2 = norm.rvs(72, 10, size=30)\n",
    "# control = norm.rvs(75, 20, size=15)\n",
    "# data = pd.DataFrame([inhibitor1, inhibitor2, control]).T\n",
    "# data.columns = ['Inhibitor 1', 'Inhibitor 2', 'Control']\n",
    "# data.to_csv('drug_inhibitor.csv')\n",
    "data = pd.read_csv('drug_inhibitor.csv', index_col=0)  # \n",
    "data.mean().plot(kind='bar', yerr=data.std())\n",
    "data.head(10)  # this displays only the first 10 rows. Take out \".head()\" to display a larger view of the data."
   ]
  },
  {
   "cell_type": "markdown",
   "metadata": {},
   "source": [
    "Okay, so here's the important, potentially billion-dollar market question: Is inhibitor 1 any good?\n",
    "\n",
    "Basically, the question we're asking is this: Is the there a difference between the enzyme's activity under inhibitor 1 vs. the control? \n",
    "\n",
    "Here are a few problems we face here:\n",
    "\n",
    "1. We don't know what distribtion the inhibitor and the control data came from. You might be tempted to assume a  Normal (`N~(mu,sd)`) distribution around the mean of each group, but you'd have to justify why this is a rational choice.\n",
    "1. The error bars come from the sampled data, not from the so-called \"population\" data.\n",
    "\n",
    "Is there a way around this?"
   ]
  },
  {
   "cell_type": "markdown",
   "metadata": {},
   "source": [
    "### Permutation\n",
    "\n",
    "We can perform a permutation test. Here's the setup.\n",
    "\n",
    "* we want to know whether two groups are statistically different or not, BUT \n",
    "* we do not have a rationally-defensible underlying distribution to model the data explicitly, \n",
    "\n",
    "Therefore... \n",
    "\n",
    "* assume that the treatments do not matter \n",
    "* compute what the distribution of difference of menas will be like if the treatment labels did not matter.\n",
    "* then, calculate the probability that two populations are different under this permutation distribution assumption."
   ]
  },
  {
   "cell_type": "code",
   "execution_count": 29,
   "metadata": {
    "collapsed": false
   },
   "outputs": [
    {
     "data": {
      "text/plain": [
       "<matplotlib.legend.Legend at 0x118980f60>"
      ]
     },
     "execution_count": 29,
     "metadata": {},
     "output_type": "execute_result"
    },
    {
     "data": {
      "image/png": "[encoded data removed]",
      "text/plain": [
       "<matplotlib.figure.Figure at 0x1188e42b0>"
      ]
     },
     "metadata": {},
     "output_type": "display_data"
    }
   ],
   "source": [
    "import numpy as np\n",
    "differences = []\n",
    "for i in range(1000):\n",
    "    # Select out the two columns of data of interest\n",
    "    means = data[['Inhibitor 1', 'Control']]\n",
    "    # Select \n",
    "    means = means.apply(np.random.permutation, axis=1).mean()\n",
    "    difference = means['Control'] - means['Inhibitor 1']\n",
    "    differences.append(difference)\n",
    "differences = np.array(differences)\n",
    "plt.hist(differences, label='Null')\n",
    "plt.axvline(data.mean()['Control'] - data.mean()['Inhibitor 1'], color='red', label='Data')\n",
    "plt.legend()"
   ]
  },
  {
   "cell_type": "code",
   "execution_count": 14,
   "metadata": {
    "collapsed": false
   },
   "outputs": [
    {
     "data": {
      "text/plain": [
       "0.16"
      ]
     },
     "execution_count": 14,
     "metadata": {},
     "output_type": "execute_result"
    }
   ],
   "source": [
    "data_diff = data.mean()['Control'] - data.mean()['Inhibitor 1']\n",
    "np.sum(differences >= data_diff) / len(differences)"
   ]
  },
  {
   "cell_type": "markdown",
   "metadata": {},
   "source": [
    "The probability of seeing this or more difference, assuming that the inhibitor treatment has no effect, is about 3 out of 20 times. We might not be so convinced that this is a good drug."
   ]
  },
  {
   "cell_type": "markdown",
   "metadata": {},
   "source": [
    "### Notes\n",
    "\n",
    "Once again, we have chosen a relevant statistic (difference of means), and computed its distribution under a \"null\" distribution, and compared the statistic provided by the data to the null model."
   ]
  },
  {
   "cell_type": "markdown",
   "metadata": {
    "collapsed": false
   },
   "source": [
    "## The Sampling Distribution\n",
    "\n",
    "In this section, we will learn:\n",
    "\n",
    "* What model fitting is all about.\n",
    "* The difference between the \"underlying\" parameter, from the population, and the \"sample\" (or \"measured\") parameter.\n",
    "\n",
    "What is model fitting all about? It's basically about finding the parameter set that best describes your data.\n",
    "\n",
    "Let's start by taking a random sample of data from a `Normal(10, 2)` distribution."
   ]
  },
  {
   "cell_type": "code",
   "execution_count": 15,
   "metadata": {
    "collapsed": false
   },
   "outputs": [
    {
     "data": {
      "text/plain": [
       "<matplotlib.axes._subplots.AxesSubplot at 0x117c24128>"
      ]
     },
     "execution_count": 15,
     "metadata": {},
     "output_type": "execute_result"
    },
    {
     "data": {
      "image/png": "[encoded data removed]",
      "text/plain": [
       "<matplotlib.figure.Figure at 0x1171d1588>"
      ]
     },
     "metadata": {},
     "output_type": "display_data"
    }
   ],
   "source": [
    "sample = norm.rvs(10, 0.5, size=6)  # we will draw 6 instances from the normal distribution.\n",
    "sns.kdeplot(sample, color='blue')"
   ]
  },
  {
   "cell_type": "code",
   "execution_count": 27,
   "metadata": {
    "collapsed": false
   },
   "outputs": [
    {
     "data": {
      "text/plain": [
       "<matplotlib.legend.Legend at 0x118297fd0>"
      ]
     },
     "execution_count": 27,
     "metadata": {},
     "output_type": "execute_result"
    },
    {
     "data": {
      "image/png": "[encoded data removed]",
      "text/plain": [
       "<matplotlib.figure.Figure at 0x1184fbe48>"
      ]
     },
     "metadata": {},
     "output_type": "display_data"
    }
   ],
   "source": [
    "population = norm.rvs(10, 0.5, size=10000)\n",
    "sns.kdeplot(sample, color='blue', label='sample')\n",
    "sns.kdeplot(population, color='red', label='population')\n",
    "plt.legend()"
   ]
  },
  {
   "cell_type": "markdown",
   "metadata": {},
   "source": [
    "Create a new distribution called `fitted`, and tweak its parameters so that it fits the sample distribution."
   ]
  },
  {
   "cell_type": "markdown",
   "metadata": {},
   "source": [
    "### Discussion\n",
    "\n",
    "* What are your parameter values? \n",
    "* What's happening here? Isn't the sample drawn from the same distribution as the population? \n",
    "* How could the sample parameters and population parameters be different?"
   ]
  },
  {
   "cell_type": "markdown",
   "metadata": {
    "collapsed": true
   },
   "source": [
    "The key point here is that the samples are random samples of the population. The computed mean from the sample may not necessarily match with the actual population mean."
   ]
  },
  {
   "cell_type": "markdown",
   "metadata": {
    "collapsed": true
   },
   "source": [
    "# Central Limit Theorem\n",
    "\n",
    "The central limit theorem is central to statistics. \n",
    "\n",
    "Quoting from Wikipedia:\n",
    "\n",
    "> In probability theory, the central limit theorem (CLT) states that, given certain conditions, the arithmetic mean of a sufficiently large number of iterates of independent random variables, each with a well-defined expected value and well-defined variance, will be approximately normally distributed, regardless of the underlying distribution.\n",
    "\n",
    "We're going to experimentally look at what this statement means."
   ]
  },
  {
   "cell_type": "markdown",
   "metadata": {},
   "source": [
    "## A crazy dice\n",
    "\n",
    "Let's say that we have a crazy dice with an underlying distribution that we'd never expect to encounter."
   ]
  },
  {
   "cell_type": "code",
   "execution_count": 17,
   "metadata": {
    "collapsed": false
   },
   "outputs": [],
   "source": [
    "xs = range(1,7)  # numbers 1 through 6\n",
    "ps = [0.4, 0.1, 0, 0.2, 0.3, 0]\n",
    "crazy_dice = rv_discrete(name='crazy_dice', values=[xs, ps])"
   ]
  },
  {
   "cell_type": "markdown",
   "metadata": {},
   "source": [
    "Instructor demo: Let's visualize this distribution."
   ]
  },
  {
   "cell_type": "code",
   "execution_count": 18,
   "metadata": {
    "collapsed": false
   },
   "outputs": [
    {
     "data": {
      "text/plain": [
       "<matplotlib.collections.LineCollection at 0x117fb2588>"
      ]
     },
     "execution_count": 18,
     "metadata": {},
     "output_type": "execute_result"
    },
    {
     "data": {
      "image/png": "[encoded data removed]",
      "text/plain": [
       "<matplotlib.figure.Figure at 0x117eed048>"
      ]
     },
     "metadata": {},
     "output_type": "display_data"
    }
   ],
   "source": [
    "crazy_dice.pmf(xs)\n",
    "fig = plt.figure()\n",
    "ax = fig.add_subplot(111)\n",
    "ax.plot(xs, crazy_dice.pmf(xs), 'ro', ms=12)\n",
    "ax.vlines(xs, [0]*len(xs), crazy_dice.pmf(xs), color='red', lw=4)"
   ]
  },
  {
   "cell_type": "markdown",
   "metadata": {},
   "source": [
    "With this dice, we are essentially saying that we expect the dice to throw 1s (40% of the time), 5s (30% of the time), 4s (20% of the time), and 2s (10% of the time), with no expectation of getting 3s and 6s.\n",
    "\n",
    "Now, let's roll the dice 4 times. What's the mean?"
   ]
  },
  {
   "cell_type": "code",
   "execution_count": 78,
   "metadata": {
    "collapsed": false
   },
   "outputs": [
    {
     "data": {
      "text/plain": [
       "2.8599999999999999"
      ]
     },
     "execution_count": 78,
     "metadata": {},
     "output_type": "execute_result"
    },
    {
     "data": {
      "image/png": "[encoded data removed]",
      "text/plain": [
       "<matplotlib.figure.Figure at 0x11c65d438>"
      ]
     },
     "metadata": {},
     "output_type": "display_data"
    }
   ],
   "source": [
    "# Class activity\n",
    "sample1 = crazy_dice.rvs(size=50)\n",
    "sns.kdeplot(sample1)\n",
    "np.mean(sample1)"
   ]
  },
  {
   "cell_type": "markdown",
   "metadata": {},
   "source": [
    "Roll the dice 4 times again. What's the mean?"
   ]
  },
  {
   "cell_type": "code",
   "execution_count": 20,
   "metadata": {
    "collapsed": false
   },
   "outputs": [
    {
     "data": {
      "text/plain": [
       "2.75"
      ]
     },
     "execution_count": 20,
     "metadata": {},
     "output_type": "execute_result"
    }
   ],
   "source": [
    "# Class activity\n",
    "sample2 = crazy_dice.rvs(size=4)\n",
    "np.mean(sample2)"
   ]
  },
  {
   "cell_type": "markdown",
   "metadata": {},
   "source": [
    "Roll the dice 4 times, but repeat 1000 times now. What's the distribution of the means?"
   ]
  },
  {
   "cell_type": "code",
   "execution_count": 84,
   "metadata": {
    "collapsed": false
   },
   "outputs": [
    {
     "data": {
      "text/plain": [
       "<matplotlib.axes._subplots.AxesSubplot at 0x11cd8b128>"
      ]
     },
     "execution_count": 84,
     "metadata": {},
     "output_type": "execute_result"
    },
    {
     "data": {
      "image/png": "[encoded data removed]",
      "text/plain": [
       "<matplotlib.figure.Figure at 0x11cec8470>"
      ]
     },
     "metadata": {},
     "output_type": "display_data"
    }
   ],
   "source": [
    "# Class activity\n",
    "means = []\n",
    "\n",
    "for i in range(1000):\n",
    "    mean = np.mean(crazy_dice.rvs(size=4))\n",
    "    means.append(mean)\n",
    "    \n",
    "# plt.hist(np.array(means), color='green')\n",
    "sns.kdeplot(np.array(means), color='blue')  # plot the density plot\n",
    "sns.kdeplot(norm.rvs(2.9,0.6,size=100000), color='red')  # plot an approximation of the actual distribution"
   ]
  },
  {
   "cell_type": "code",
   "execution_count": null,
   "metadata": {
    "collapsed": true
   },
   "outputs": [],
   "source": []
  },
  {
   "cell_type": "markdown",
   "metadata": {},
   "source": [
    "Try calculating by hand the expected value of the dice. The definition of the expected value is:\n",
    "\n",
    "$$\\sum_{i=1}^{n}X_i p_i$$\n",
    "\n",
    "Or in plain English, sum up the product of each value and its probability.\n",
    "\n",
    "Did you get 2.9?"
   ]
  },
  {
   "cell_type": "code",
   "execution_count": null,
   "metadata": {
    "collapsed": true
   },
   "outputs": [],
   "source": []
  },
  {
   "cell_type": "markdown",
   "metadata": {},
   "source": [
    "# Conclusions\n",
    "\n",
    "What is statistics all about?\n",
    "\n",
    "1. Descriptive statistics: Describing and summarizing data. The questions you are asking here are:\n",
    "    1. How do I show what the data look like?\n",
    "    1. How do I condense all the data points into a summarized view?\n",
    "1. Inferential statistics: \n",
    "    1. Figuring out whether what you've observed (your data) could have come from random chance or not.\n",
    "    1. Figuring out what model of randomness your data could have come from.\n",
    "    \n",
    "    \n",
    "Also, the Central Limit Theorem explains much about what we know about the world.\n",
    "    \n",
    "Note on parametric vs. non-parametric tests: use parametric when you have a known mechanistic process. More accurate results when the model correctly describes the underlying process, compared to non-parametric."
   ]
  },
  {
   "cell_type": "markdown",
   "metadata": {},
   "source": [
    "# Resources\n",
    "\n",
    "1. Think Stats: http://greenteapress.com/thinkstats/\n",
    "    1. Allen Downey's other books are also great resources.\n",
    "2. Wikipedia Articles: Go get buried in the web that is Wikipedia. :)\n",
    "    1. The p-value: https://en.wikipedia.org/wiki/P-value\n",
    "    1. Statistical inference: https://en.wikipedia.org/wiki/Statistical_inference\n",
    "    1. Statistical hypothesis testing: https://en.wikipedia.org/wiki/Statistical_hypothesis_testing\n",
    "    1. Khan academy: https://www.khanacademy.org/math/probability/statistics-inferential/sampling_distribution/v/central-limit-theorem"
   ]
  },
  {
   "cell_type": "code",
   "execution_count": null,
   "metadata": {
    "collapsed": true
   },
   "outputs": [],
   "source": []
  }
 ],
 "metadata": {
  "kernelspec": {
   "display_name": "Python 3",
   "language": "python",
   "name": "python3"
  },
  "language_info": {
   "codemirror_mode": {
    "name": "ipython",
    "version": 3
   },
   "file_extension": ".py",
   "mimetype": "text/x-python",
   "name": "python",
   "nbconvert_exporter": "python",
   "pygments_lexer": "ipython3",
   "version": "3.4.3"
  }
 },
 "nbformat": 4,
 "nbformat_minor": 0
}
